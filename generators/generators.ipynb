{
 "cells": [
  {
   "cell_type": "markdown",
   "metadata": {},
   "source": [
    "# Generators\n",
    "---\n",
    "\n",
    "Generators are a useful tool in Python. In essence, they are functions which return an iterable set of items that can be iterated through one by one using the `next()` method.\n",
    "\n",
    "Unlike lists, generators do not load an entire collection into memory at once, and so are much more memory efficient than other types of collection objects."
   ]
  },
  {
   "cell_type": "markdown",
   "metadata": {},
   "source": [
    "Any function using the `yield` keyword will return a generator object. \n",
    "\n",
    "Run the code cell below to see this in action."
   ]
  },
  {
   "cell_type": "code",
   "execution_count": 13,
   "metadata": {},
   "outputs": [
    {
     "name": "stdout",
     "output_type": "stream",
     "text": [
      "<generator object uk_cities at 0x00000242A8EF02E0>\n"
     ]
    }
   ],
   "source": [
    "def uk_cities():\n",
    "    yield \"London\"\n",
    "    yield \"Manchester\"\n",
    "    yield \"Leeds\"\n",
    "\n",
    "cities = uk_cities()\n",
    "print(cities)"
   ]
  },
  {
   "cell_type": "markdown",
   "metadata": {},
   "source": [
    "As you can see, printing `cities` does not return the list `[\"London\", \"Manchester\", \"Leeds\"]` like you might have expected. Instead it returns an instance of the generator object `uk_cities`.\n",
    "\n",
    "To display the contents of a generator, we will instead use the `next()` method; this will return the next item in the generator until the end of the data stream is reached.\n",
    "\n",
    "If you would like the stream of data to be in the typical list format, use the `list()` method to convert a generator into a list.\n",
    "\n",
    "Run the code cells below to try these ideas with our `cities` generator object.\n",
    "\n",
    "<br>\n",
    "\n",
    "**Q: Can you guess what might happen when we reach the end of the data stream?**\n",
    "\n",
    "(Hint: think about why we have to redefine cities each time we run this)"
   ]
  },
  {
   "cell_type": "code",
   "execution_count": 15,
   "metadata": {},
   "outputs": [
    {
     "name": "stdout",
     "output_type": "stream",
     "text": [
      "London\n",
      "Manchester\n",
      "Leeds\n"
     ]
    }
   ],
   "source": [
    "cities = uk_cities()\n",
    "print(next(cities))\n",
    "print(next(cities))\n",
    "print(next(cities))\n"
   ]
  },
  {
   "cell_type": "code",
   "execution_count": 19,
   "metadata": {},
   "outputs": [
    {
     "name": "stdout",
     "output_type": "stream",
     "text": [
      "['London', 'Manchester', 'Leeds']\n"
     ]
    }
   ],
   "source": [
    "cities = uk_cities()\n",
    "print(list(cities))"
   ]
  },
  {
   "cell_type": "markdown",
   "metadata": {},
   "source": [
    "There are a few tricks to watch out for when using generators:\n",
    "\n",
    "You'll notice our `uk_cities` generator has three elements and we have called `next()` on this generator three times. If we were to call it another time, there would be no remaining elements in the generator and so our code would throw a runtime error. \n",
    "\n",
    "Test this out in the code cell below."
   ]
  },
  {
   "cell_type": "code",
   "execution_count": 21,
   "metadata": {},
   "outputs": [
    {
     "name": "stdout",
     "output_type": "stream",
     "text": [
      "London\n",
      "Manchester\n",
      "Leeds\n",
      "[]\n"
     ]
    }
   ],
   "source": [
    "cities = uk_cities()\n",
    "print(next(cities))\n",
    "print(next(cities))\n",
    "print(next(cities))\n",
    "print(next(cities))"
   ]
  },
  {
   "cell_type": "markdown",
   "metadata": {},
   "source": [
    "You probably also noticed that when we wanted to print a list of all the objects in the generator we had to redefine the `cities` object. If we were to forget to do this, calling `list(cities)` would simply return an empty list.\n",
    "\n",
    "Replace the last line of the code cell above with `print(list(cities))` to see what this looks like."
   ]
  }
 ],
 "metadata": {
  "kernelspec": {
   "display_name": "Python 3.10.1 64-bit",
   "language": "python",
   "name": "python3"
  },
  "language_info": {
   "codemirror_mode": {
    "name": "ipython",
    "version": 3
   },
   "file_extension": ".py",
   "mimetype": "text/x-python",
   "name": "python",
   "nbconvert_exporter": "python",
   "pygments_lexer": "ipython3",
   "version": "3.10.1"
  },
  "orig_nbformat": 4,
  "vscode": {
   "interpreter": {
    "hash": "53d029e7e0ae46411bfdbf201bc5c679e8d68a3068b4c3daa6ae21d53e468dec"
   }
  }
 },
 "nbformat": 4,
 "nbformat_minor": 2
}
